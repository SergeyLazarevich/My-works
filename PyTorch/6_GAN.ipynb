{
  "cells": [
    {
      "cell_type": "markdown",
      "metadata": {
        "id": "dUY57tjCEU2v"
      },
      "source": [
        "# GAN"
      ]
    },
    {
      "cell_type": "markdown",
      "metadata": {
        "id": "9LqOQjDqm1uC"
      },
      "source": [
        "### 1. Как было сказано ранее, GAN обучается воспроизводить реальные данные. Поэтому Вам предлагается обучить генератор создавать точки, которые будут лежать на графике функции:\n",
        "\n",
        "$$y = \\frac{\\sin(x)}{x}-\\frac{x}{10}$$\n",
        "\n",
        "При выполнении данного задания структура GAN остается той же, но Вам нужно:\n",
        "- Сгенерировать настоящие данные\n",
        "- Изменить архитектуру дискриминатора и генератора\n",
        "- Без графиков домашку не принимаю\n",
        "\n",
        "\n"
      ]
    },
    {
      "cell_type": "code",
      "execution_count": 50,
      "metadata": {
        "colab": {
          "base_uri": "https://localhost:8080/"
        },
        "id": "8PcI1aHfm1ZJ",
        "outputId": "071a1b89-e960-431f-9fed-666a3f38c022"
      },
      "outputs": [
        {
          "name": "stdout",
          "output_type": "stream",
          "text": [
            "cuda\n"
          ]
        }
      ],
      "source": [
        "import numpy as np \n",
        "import matplotlib.pyplot as plt\n",
        "from tqdm import tqdm\n",
        "\n",
        "from torch.utils.data import DataLoader\n",
        "import torchvision.transforms as transforms\n",
        "from torchvision import datasets\n",
        "from torch.autograd import Variable\n",
        "\n",
        "import torch.nn as nn\n",
        "import torch\n",
        "\n",
        "torch.manual_seed(42)\n",
        "rng = np.random.default_rng(42)\n",
        "\n",
        "use_cuda = torch.cuda.is_available()\n",
        "device = torch.device('cuda') if torch.cuda.is_available() else torch.device('cpu')\n",
        "print(device)"
      ]
    },
    {
      "cell_type": "code",
      "execution_count": 53,
      "metadata": {
        "colab": {
          "base_uri": "https://localhost:8080/",
          "height": 483
        },
        "id": "nD0l3pBpoMKa",
        "outputId": "f807e5a0-566c-4224-8fb0-fa9f67f2e517"
      },
      "outputs": [
        {
          "data": {
            "image/png": "[encoded data removed]",
            "text/plain": [
              "<Figure size 720x576 with 1 Axes>"
            ]
          },
          "metadata": {
            "needs_background": "light"
          },
          "output_type": "display_data"
        }
      ],
      "source": [
        "#Сгенерируем настоящие данные\n",
        "train_data_length = 1024\n",
        "start = -10\n",
        "stop = 10\n",
        "train_data = torch.zeros((train_data_length, 2))\n",
        "x = np.linspace(start, stop, train_data_length)\n",
        "np.random.shuffle(x)\n",
        "train_data[:, 0] = torch.tensor(x, dtype=torch.float)\n",
        "train_data[:, 1] = (torch.sin(train_data[:, 0])/train_data[:, 0])-(train_data[:, 0]/10)\n",
        "train_labels = torch.zeros(train_data_length)\n",
        "train_set = [(train_data[i], train_labels[i]) for i in range(train_data_length)]\n",
        "\n",
        "batch_size = 16\n",
        "train_loader = torch.utils.data.DataLoader(train_set, batch_size=batch_size, shuffle=True)\n",
        "\n",
        "plt.figure(figsize=(10,8))\n",
        "plt.plot(train_data[:, 0], train_data[:, 1], \".\")\n",
        "plt.grid() \n",
        "plt.show()  "
      ]
    },
    {
      "cell_type": "markdown",
      "metadata": {
        "id": "BKn9LR_JLz_v"
      },
      "source": [
        "Создание модели"
      ]
    },
    {
      "cell_type": "code",
      "execution_count": 54,
      "metadata": {
        "id": "Z92M_AiIGi09"
      },
      "outputs": [],
      "source": [
        "# Генератор:\n",
        "class Generator(nn.Module):\n",
        "    def __init__(self):\n",
        "        super().__init__()\n",
        "        self.model = nn.Sequential(\n",
        "            nn.Linear(2, 16),\n",
        "            nn.ReLU(),\n",
        "            nn.Linear(16, 32),\n",
        "            nn.ReLU(),\n",
        "            nn.Linear(32, 2))\n",
        "\n",
        "    def forward(self, x):\n",
        "        output = self.model(x)\n",
        "        return output\n",
        "\n",
        "\n",
        "# Дискриминатор:\n",
        "class Discriminator(nn.Module):\n",
        "    def __init__(self):\n",
        "        super().__init__()\n",
        "\n",
        "        self.model = nn.Sequential(\n",
        "            nn.Linear(2, 128),\n",
        "            nn.LeakyReLU(0.2, inplace=True),\n",
        "            nn.Dropout(0.3),\n",
        "            nn.Linear(128, 64),\n",
        "            nn.LeakyReLU(0.2, inplace=True),\n",
        "            nn.Dropout(0.3),\n",
        "            nn.Linear(64, 1),\n",
        "            nn.Sigmoid(),\n",
        "        )\n",
        "  \n",
        "\n",
        "    def forward(self, img):\n",
        "        validity = self.model(img)\n",
        "        return validity"
      ]
    },
    {
      "cell_type": "markdown",
      "metadata": {
        "id": "91Dhc97nMUE9"
      },
      "source": [
        "Обучение"
      ]
    },
    {
      "cell_type": "code",
      "execution_count": 55,
      "metadata": {
        "id": "DtDCStXXK-JI"
      },
      "outputs": [],
      "source": [
        "# Инициализация:\n",
        "n_epochs = 1000 # количество эпох\n",
        "lr = 0.0002 # шаг обучения\n",
        "\n",
        "b1 = 0.5 # гиперпараметр для оптимайзера Adam\n",
        "b2 = 0.999 # гиперпараметр для оптимайзера Adam\n",
        "\n",
        "generator = Generator().to(device)\n",
        "discriminator = Discriminator().to(device)\n",
        "\n",
        "# Для каждой нейронки свой опитимизатор\n",
        "optimizer_G = torch.optim.Adam(generator.parameters(), lr=lr, betas=(b1, b2))\n",
        "optimizer_D = torch.optim.Adam(discriminator.parameters(), lr=lr, betas=(b1, b2))\n",
        "\n",
        "# Но вот функция ошибки у нас будет одна общая\n",
        "loss_function = torch.nn.BCELoss()"
      ]
    },
    {
      "cell_type": "code",
      "execution_count": 56,
      "metadata": {
        "colab": {
          "base_uri": "https://localhost:8080/"
        },
        "id": "LU6-PYrtd1Uv",
        "outputId": "162534a3-f1e8-479f-ad8a-265a8acf1f0f"
      },
      "outputs": [
        {
          "name": "stderr",
          "output_type": "stream",
          "text": [
            "\r  0%|          | 0/1000 [00:00<?, ?it/s]"
          ]
        },
        {
          "name": "stdout",
          "output_type": "stream",
          "text": [
            "\n",
            "Epoch: 0 Loss D.: 0.5966615676879883\n",
            "Epoch: 0 Loss G.: 0.670982837677002\n"
          ]
        },
        {
          "name": "stderr",
          "output_type": "stream",
          "text": [
            " 10%|█         | 100/1000 [00:28<04:15,  3.53it/s]"
          ]
        },
        {
          "name": "stdout",
          "output_type": "stream",
          "text": [
            "\n",
            "Epoch: 100 Loss D.: 0.689834475517273\n",
            "Epoch: 100 Loss G.: 0.6938236951828003\n"
          ]
        },
        {
          "name": "stderr",
          "output_type": "stream",
          "text": [
            " 20%|██        | 200/1000 [00:55<03:41,  3.61it/s]"
          ]
        },
        {
          "name": "stdout",
          "output_type": "stream",
          "text": [
            "\n",
            "Epoch: 200 Loss D.: 0.6888335943222046\n",
            "Epoch: 200 Loss G.: 0.7028599977493286\n"
          ]
        },
        {
          "name": "stderr",
          "output_type": "stream",
          "text": [
            " 30%|███       | 300/1000 [01:24<03:13,  3.63it/s]"
          ]
        },
        {
          "name": "stdout",
          "output_type": "stream",
          "text": [
            "\n",
            "Epoch: 300 Loss D.: 0.7020784020423889\n",
            "Epoch: 300 Loss G.: 0.6960536241531372\n"
          ]
        },
        {
          "name": "stderr",
          "output_type": "stream",
          "text": [
            " 40%|████      | 400/1000 [01:51<02:44,  3.64it/s]"
          ]
        },
        {
          "name": "stdout",
          "output_type": "stream",
          "text": [
            "\n",
            "Epoch: 400 Loss D.: 0.6926270723342896\n",
            "Epoch: 400 Loss G.: 0.6878926753997803\n"
          ]
        },
        {
          "name": "stderr",
          "output_type": "stream",
          "text": [
            " 50%|█████     | 500/1000 [02:19<02:18,  3.62it/s]"
          ]
        },
        {
          "name": "stdout",
          "output_type": "stream",
          "text": [
            "\n",
            "Epoch: 500 Loss D.: 0.692240834236145\n",
            "Epoch: 500 Loss G.: 0.6951548457145691\n"
          ]
        },
        {
          "name": "stderr",
          "output_type": "stream",
          "text": [
            " 60%|██████    | 600/1000 [02:47<01:52,  3.54it/s]"
          ]
        },
        {
          "name": "stdout",
          "output_type": "stream",
          "text": [
            "\n",
            "Epoch: 600 Loss D.: 0.6923755407333374\n",
            "Epoch: 600 Loss G.: 0.700694739818573\n"
          ]
        },
        {
          "name": "stderr",
          "output_type": "stream",
          "text": [
            " 70%|███████   | 700/1000 [03:15<01:23,  3.58it/s]"
          ]
        },
        {
          "name": "stdout",
          "output_type": "stream",
          "text": [
            "\n",
            "Epoch: 700 Loss D.: 0.6928285360336304\n",
            "Epoch: 700 Loss G.: 0.692961573600769\n"
          ]
        },
        {
          "name": "stderr",
          "output_type": "stream",
          "text": [
            " 80%|████████  | 800/1000 [03:43<00:55,  3.59it/s]"
          ]
        },
        {
          "name": "stdout",
          "output_type": "stream",
          "text": [
            "\n",
            "Epoch: 800 Loss D.: 0.6935456395149231\n",
            "Epoch: 800 Loss G.: 0.7047799825668335\n"
          ]
        },
        {
          "name": "stderr",
          "output_type": "stream",
          "text": [
            " 90%|█████████ | 900/1000 [04:11<00:27,  3.57it/s]"
          ]
        },
        {
          "name": "stdout",
          "output_type": "stream",
          "text": [
            "\n",
            "Epoch: 900 Loss D.: 0.6945067048072815\n",
            "Epoch: 900 Loss G.: 0.6937074661254883\n"
          ]
        },
        {
          "name": "stderr",
          "output_type": "stream",
          "text": [
            "100%|██████████| 1000/1000 [04:39<00:00,  3.58it/s]\n"
          ]
        }
      ],
      "source": [
        "for epoch in tqdm(range(n_epochs)):\n",
        "    for n, (real_samples, _) in enumerate(train_loader):\n",
        "        # Данные для обучения дискриминатора\n",
        "        real_samples = real_samples.to(device)\n",
        "        real_samples_labels = torch.ones((batch_size, 1)).to(device)\n",
        "        latent_space_samples = torch.randn((batch_size, 2)).to(device)\n",
        "        generated_samples = generator(latent_space_samples).to(device)\n",
        "        generated_samples_labels = torch.zeros((batch_size, 1)).to(device)\n",
        "        all_samples = torch.cat((real_samples, generated_samples)).to(device)\n",
        "        all_samples_labels = torch.cat((real_samples_labels, generated_samples_labels)).to(device)\n",
        "\n",
        "        # Обучение дискриминатора\n",
        "        discriminator.zero_grad()\n",
        "        output_discriminator = discriminator(all_samples)\n",
        "        loss_discriminator = loss_function(\n",
        "            output_discriminator, all_samples_labels)\n",
        "        loss_discriminator.backward()\n",
        "        optimizer_D.step()\n",
        "\n",
        "        # Данные для обучения генератора\n",
        "        latent_space_samples = torch.randn((batch_size, 2)).to(device)\n",
        "\n",
        "        # Обучение генератора\n",
        "        generator.zero_grad()\n",
        "        generated_samples = generator(latent_space_samples)\n",
        "        output_discriminator_generated = discriminator(generated_samples)\n",
        "        loss_generator = loss_function(\n",
        "            output_discriminator_generated, real_samples_labels)\n",
        "        loss_generator.backward()\n",
        "        optimizer_G.step()\n",
        "\n",
        "        # Выводим значения функций потерь\n",
        "        if epoch % 100 == 0 and n == batch_size - 1:\n",
        "            print(f\"\\nEpoch: {epoch} Loss D.: {loss_discriminator}\")\n",
        "            print(f\"Epoch: {epoch} Loss G.: {loss_generator}\")"
      ]
    },
    {
      "cell_type": "markdown",
      "metadata": {
        "id": "hMbsgHFjhQzu"
      },
      "source": [
        "Проверка образцов, сгенерированных GAN"
      ]
    },
    {
      "cell_type": "code",
      "execution_count": 57,
      "metadata": {
        "colab": {
          "base_uri": "https://localhost:8080/",
          "height": 483
        },
        "id": "dDnmLOmmhHZA",
        "outputId": "94ac49e2-0034-4607-b695-2d4edee63327"
      },
      "outputs": [
        {
          "data": {
            "image/png": "[encoded data removed]",
            "text/plain": [
              "<Figure size 720x576 with 1 Axes>"
            ]
          },
          "metadata": {
            "needs_background": "light"
          },
          "output_type": "display_data"
        }
      ],
      "source": [
        "length = 1000\n",
        "x = np.linspace(start, stop, length)\n",
        "np.random.shuffle(x)\n",
        "latent_space_samples = torch.tensor(x.reshape((length // 2), 2), dtype=torch.float).to(device)\n",
        "\n",
        "generated_samples = generator(latent_space_samples)\n",
        "generated_samples = generated_samples.detach().cpu()\n",
        "\n",
        "\n",
        "plt.figure(figsize=(10,8))\n",
        "plt.plot(generated_samples[:, 0], generated_samples[:, 1], \".\")\n",
        "plt.grid() \n",
        "plt.show()  "
      ]
    }
  ],
  "metadata": {
    "accelerator": "GPU",
    "colab": {
      "collapsed_sections": [],
      "name": "Фреймворк PyTorch_ДЗ_8.ipynb",
      "provenance": []
    },
    "gpuClass": "standard",
    "kernelspec": {
      "display_name": "Python 3",
      "name": "python3"
    },
    "language_info": {
      "name": "python"
    }
  },
  "nbformat": 4,
  "nbformat_minor": 0
}
