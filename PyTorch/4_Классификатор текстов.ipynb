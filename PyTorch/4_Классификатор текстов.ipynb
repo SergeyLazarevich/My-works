{
  "cells": [
    {
      "cell_type": "markdown",
      "metadata": {
        "id": "k0WNHnv4RfhH"
      },
      "source": [
        "# Классификатор текстов\n",
        "Самостоятельно обучить классификатор текстов на примере 20newsgroups\n",
        "На примере 20 newsgroups попробовать разные параметры для сверток для классификации текстов"
      ]
    },
    {
      "cell_type": "code",
      "execution_count": null,
      "metadata": {
        "id": "OWd-w9QzUNxL"
      },
      "outputs": [],
      "source": [
        "import numpy as np\n",
        "import pandas as pd\n",
        "from sklearn.datasets import fetch_20newsgroups\n",
        "from sklearn.feature_extraction.text import CountVectorizer\n",
        "from sklearn.feature_extraction.text import TfidfTransformer\n",
        "\n",
        "import torch\n",
        "import torch.nn as nn\n",
        "import torch.nn.functional as F\n",
        "\n",
        "from tqdm import tqdm"
      ]
    },
    {
      "cell_type": "code",
      "execution_count": null,
      "metadata": {
        "id": "QAmAJcuvTLIA"
      },
      "outputs": [],
      "source": [
        "categories = ['alt.atheism', 'soc.religion.christian', 'comp.graphics', 'sci.med']\n",
        "\n",
        "twenty_train = fetch_20newsgroups(subset='train', categories=categories, shuffle=True, random_state=42)\n",
        "twenty_test = fetch_20newsgroups(subset='test', categories=categories, shuffle=True, random_state=42)"
      ]
    },
    {
      "cell_type": "markdown",
      "metadata": {
        "id": "-HhG8bWhZJL-"
      },
      "source": [
        "Токенизация текста"
      ]
    },
    {
      "cell_type": "code",
      "execution_count": null,
      "metadata": {
        "colab": {
          "base_uri": "https://localhost:8080/"
        },
        "id": "-dxaUVkFZKTg",
        "outputId": "a20b20c7-db2d-44df-a0d2-bc872ce16ebd"
      },
      "outputs": [
        {
          "data": {
            "text/plain": [
              "((2257, 4536), (1502, 4536))"
            ]
          },
          "execution_count": 18,
          "metadata": {},
          "output_type": "execute_result"
        }
      ],
      "source": [
        "count_vect = CountVectorizer(analyzer='word', stop_words='english', max_df=0.5, min_df=10)\n",
        "X_train_counts = count_vect.fit_transform(twenty_train.data)\n",
        "X_test_counts = count_vect.transform(twenty_test.data)\n",
        "X_train_counts.shape, X_test_counts.shape"
      ]
    },
    {
      "cell_type": "markdown",
      "metadata": {
        "id": "5O48G9uheGDD"
      },
      "source": [
        "определим tf меру"
      ]
    },
    {
      "cell_type": "code",
      "execution_count": null,
      "metadata": {
        "colab": {
          "base_uri": "https://localhost:8080/"
        },
        "id": "kIp2KDPCagba",
        "outputId": "f10adaa1-acb6-4644-fc02-13a55da11f75"
      },
      "outputs": [
        {
          "data": {
            "text/plain": [
              "((2257, 4536), (1502, 4536))"
            ]
          },
          "execution_count": 19,
          "metadata": {},
          "output_type": "execute_result"
        }
      ],
      "source": [
        "tfidf_transformer = TfidfTransformer()\n",
        "X_train_tfidf = tfidf_transformer.fit_transform(X_train_counts)\n",
        "X_test_tfidf = tfidf_transformer.transform(X_test_counts)\n",
        "X_train_tfidf.shape, X_test_tfidf.shape"
      ]
    },
    {
      "cell_type": "code",
      "execution_count": null,
      "metadata": {
        "id": "7aTcUtZMg5D8"
      },
      "outputs": [],
      "source": [
        "class Dataset(torch.utils.data.Dataset):\n",
        "   \n",
        "    def __init__(self, init_dataset, target, used_length):\n",
        "        self.base_dataset = init_dataset\n",
        "        self.target = target\n",
        "        self._length = used_length\n",
        "\n",
        "    def __len__(self):\n",
        "        return self.base_dataset.shape[0]\n",
        "\n",
        "    def encode_sentence(self, dataset):\n",
        "        encoded = np.zeros(self._length, dtype=int)\n",
        "        length = min(self._length, dataset.shape[0])\n",
        "        encoded[:length] = (dataset*1000)[:length]\n",
        "        return encoded, length\n",
        "\n",
        "    def __getitem__(self, idx):\n",
        "\n",
        "        encoded, length = self.encode_sentence(self.base_dataset[idx].tocoo().data)\n",
        "        \n",
        "        return torch.tensor(encoded, dtype=torch.long), \\\n",
        "               torch.tensor(self.target[idx], dtype=torch.long),\\\n",
        "               torch.tensor(length, dtype=torch.long)"
      ]
    },
    {
      "cell_type": "code",
      "execution_count": null,
      "metadata": {
        "id": "npWvzqcA3qMA"
      },
      "outputs": [],
      "source": [
        "batch_size=128\n",
        "train = torch.utils.data.DataLoader(Dataset(X_train_tfidf, twenty_train.target, batch_size),\n",
        "                                    batch_size=batch_size,\n",
        "                                    shuffle=True)\n",
        "test = torch.utils.data.DataLoader(Dataset(X_test_tfidf, twenty_test.target, batch_size),\n",
        "                                    batch_size=batch_size,\n",
        "                                    shuffle=False)"
      ]
    },
    {
      "cell_type": "code",
      "execution_count": null,
      "metadata": {
        "id": "0fNfgdLT7zu2"
      },
      "outputs": [],
      "source": [
        "class Net(nn.Module):\n",
        "    def __init__(self, vocab_size=71699, embedding_dim = 128, out_channel = 128, num_classes = 2):\n",
        "        super().__init__()\n",
        "        self.embedding = nn.Embedding(vocab_size, embedding_dim)\n",
        "        self.conv = nn.Conv1d(embedding_dim, out_channel, kernel_size=3)\n",
        "        self.relu = nn.ReLU()\n",
        "        self.linear = nn.Linear(out_channel, num_classes)\n",
        "        \n",
        "    def forward(self, x):        \n",
        "        output = self.embedding(x)\n",
        "        #                       B  F  L         \n",
        "        output = output.permute(0, 2, 1)\n",
        "        output = self.conv(output)\n",
        "        output = self.relu(output)\n",
        "        output = torch.max(output, axis=2).values\n",
        "        output = self.linear(output)\n",
        "        \n",
        "        return output\n",
        "    \n",
        "    def predict(self, x):\n",
        "        return F.softmax(self.forward(x))"
      ]
    },
    {
      "cell_type": "code",
      "execution_count": null,
      "metadata": {
        "id": "bRz4OZ6G8xz-"
      },
      "outputs": [],
      "source": [
        "model = Net(vocab_size=X_test_tfidf.tocoo().row.shape[0],\n",
        "            embedding_dim = batch_size, \n",
        "            out_channel = batch_size, \n",
        "            num_classes = len(categories))\n",
        "\n",
        "\n",
        "optimizer = torch.optim.Adam(model.parameters(), lr=0.01)\n",
        "criterion = nn.CrossEntropyLoss()"
      ]
    },
    {
      "cell_type": "code",
      "execution_count": null,
      "metadata": {
        "colab": {
          "base_uri": "https://localhost:8080/"
        },
        "id": "qIFT4t60aes0",
        "outputId": "ab5c19e1-0dcb-429e-ddab-4f547f4a81e8"
      },
      "outputs": [
        {
          "name": "stdout",
          "output_type": "stream",
          "text": [
            "cuda:0\n"
          ]
        }
      ],
      "source": [
        "use_cuda = torch.cuda.is_available()\n",
        "device = torch.device(\"cuda:0\" if use_cuda else \"cpu\")\n",
        "print(device)"
      ]
    },
    {
      "cell_type": "code",
      "execution_count": null,
      "metadata": {
        "colab": {
          "base_uri": "https://localhost:8080/"
        },
        "id": "a5FpxlX_83kt",
        "outputId": "ed96333e-208f-42c2-8f23-ac8296f070b9"
      },
      "outputs": [
        {
          "name": "stderr",
          "output_type": "stream",
          "text": [
            "100%|██████████| 10/10 [00:09<00:00,  1.06it/s]"
          ]
        },
        {
          "name": "stdout",
          "output_type": "stream",
          "text": [
            "Training is finished!\n"
          ]
        },
        {
          "name": "stderr",
          "output_type": "stream",
          "text": [
            "\n"
          ]
        }
      ],
      "source": [
        "model.to(device)\n",
        "model.train()\n",
        "train_loss = []\n",
        "test_loss = []\n",
        "for epoch in tqdm(range(10)):  \n",
        "    model.train()\n",
        "    loss_accumed = 0\n",
        "    for i,  (x, y, _) in enumerate(train, 0):\n",
        "\n",
        "        x = x.to(device)\n",
        "        y = y.to(device)\n",
        "\n",
        "        optimizer.zero_grad()\n",
        "\n",
        "        outputs = model(x)\n",
        "        loss = criterion(outputs, y)\n",
        "        loss_accumed += loss\n",
        "        loss.backward()\n",
        "        optimizer.step()\n",
        "    \n",
        "    train_loss.append(float(loss_accumed/len(train)))\n",
        "        \n",
        "    model.eval()\n",
        "    loss_accumed = 0\n",
        "    for x, y, lengths in test:\n",
        "       \n",
        "        x = x.to(device)\n",
        "        y = y.to(device)\n",
        "        output = model(x.to(device))\n",
        "        loss = criterion(output, y.to(device))\n",
        "        loss_accumed += loss\n",
        "\n",
        "    test_loss.append(float(loss_accumed/len(test)))\n",
        "\n",
        "print('Training is finished!')"
      ]
    },
    {
      "cell_type": "code",
      "execution_count": null,
      "metadata": {
        "colab": {
          "base_uri": "https://localhost:8080/",
          "height": 312
        },
        "id": "MyISDRiMdHwH",
        "outputId": "54907746-400b-41db-8e55-3a424299cca4"
      },
      "outputs": [
        {
          "name": "stdout",
          "output_type": "stream",
          "text": [
            "Populating the interactive namespace from numpy and matplotlib\n"
          ]
        },
        {
          "data": {
            "image/png": "[encoded data removed]",
            "text/plain": [
              "<Figure size 432x288 with 1 Axes>"
            ]
          },
          "metadata": {
            "needs_background": "light"
          },
          "output_type": "display_data"
        }
      ],
      "source": [
        "import matplotlib.pyplot as plt\n",
        "%pylab inline\n",
        "plt.title('Loss history')\n",
        "plt.grid(True)\n",
        "plt.ylabel('loss')\n",
        "plt.xlabel('Step')\n",
        "plt.plot(train_loss, label='train')\n",
        "plt.plot(test_loss, label='test')\n",
        "plt.legend();"
      ]
    }
  ],
  "metadata": {
    "accelerator": "GPU",
    "colab": {
      "collapsed_sections": [],
      "name": "Фреймворк PyTorch_ДЗ_6.ipynb",
      "provenance": []
    },
    "gpuClass": "standard",
    "kernelspec": {
      "display_name": "Python 3",
      "name": "python3"
    },
    "language_info": {
      "name": "python"
    }
  },
  "nbformat": 4,
  "nbformat_minor": 0
}
