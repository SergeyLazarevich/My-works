{
  "cells": [
    {
      "cell_type": "markdown",
      "metadata": {
        "id": "7visJWlexmOy"
      },
      "source": [
        "# Линейная регрессия "
      ]
    },
    {
      "cell_type": "code",
      "execution_count": 50,
      "metadata": {
        "id": "ujViv3x1mg2t"
      },
      "outputs": [],
      "source": [
        "%tensorflow_version 2.x"
      ]
    },
    {
      "cell_type": "code",
      "execution_count": 51,
      "metadata": {
        "colab": {
          "base_uri": "https://localhost:8080/"
        },
        "id": "d4dycWw8NmhT",
        "outputId": "8915f462-9699-42cb-a4dc-8e673f3eaf20"
      },
      "outputs": [
        {
          "name": "stdout",
          "output_type": "stream",
          "text": [
            "Looking in indexes: https://pypi.org/simple, https://us-python.pkg.dev/colab-wheels/public/simple/\n",
            "Requirement already satisfied: tensorflow_addons in /usr/local/lib/python3.7/dist-packages (0.17.0)\n",
            "Requirement already satisfied: packaging in /usr/local/lib/python3.7/dist-packages (from tensorflow_addons) (21.3)\n",
            "Requirement already satisfied: typeguard>=2.7 in /usr/local/lib/python3.7/dist-packages (from tensorflow_addons) (2.7.1)\n",
            "Requirement already satisfied: pyparsing!=3.0.5,>=2.0.2 in /usr/local/lib/python3.7/dist-packages (from packaging->tensorflow_addons) (3.0.9)\n"
          ]
        }
      ],
      "source": [
        "!pip install tensorflow_addons"
      ]
    },
    {
      "cell_type": "code",
      "execution_count": 52,
      "metadata": {
        "id": "u8dQCj3bB2d6"
      },
      "outputs": [],
      "source": [
        "import pandas as pd\n",
        "import numpy as np\n",
        "from tqdm import tqdm\n",
        "import tensorflow as tf\n",
        "import tensorflow.keras as keras\n",
        "from tensorflow.keras.models import Sequential\n",
        "from tensorflow.keras.layers import Dense\n",
        "from tensorflow.keras.utils import to_categorical\n",
        "import matplotlib.pyplot as plt\n",
        "from tensorflow.keras.optimizers import Adam, SGD, RMSprop, Adagrad\n",
        "import tensorflow_addons as tfa\n",
        "from sklearn.model_selection import train_test_split\n",
        "from sklearn import preprocessing"
      ]
    },
    {
      "cell_type": "code",
      "execution_count": 53,
      "metadata": {
        "id": "t2llKz_6oLBD"
      },
      "outputs": [],
      "source": [
        "from sklearn.datasets import load_boston"
      ]
    },
    {
      "cell_type": "code",
      "execution_count": 54,
      "metadata": {
        "colab": {
          "base_uri": "https://localhost:8080/"
        },
        "id": "fpwE-qyWrABZ",
        "outputId": "3bdd83c5-ebb5-4a80-b237-637ba12ead27"
      },
      "outputs": [
        {
          "name": "stderr",
          "output_type": "stream",
          "text": [
            "/usr/local/lib/python3.7/dist-packages/sklearn/utils/deprecation.py:87: FutureWarning: Function load_boston is deprecated; `load_boston` is deprecated in 1.0 and will be removed in 1.2.\n",
            "\n",
            "    The Boston housing prices dataset has an ethical problem. You can refer to\n",
            "    the documentation of this function for further details.\n",
            "\n",
            "    The scikit-learn maintainers therefore strongly discourage the use of this\n",
            "    dataset unless the purpose of the code is to study and educate about\n",
            "    ethical issues in data science and machine learning.\n",
            "\n",
            "    In this special case, you can fetch the dataset from the original\n",
            "    source::\n",
            "\n",
            "        import pandas as pd\n",
            "        import numpy as np\n",
            "\n",
            "\n",
            "        data_url = \"http://lib.stat.cmu.edu/datasets/boston\"\n",
            "        raw_df = pd.read_csv(data_url, sep=\"\\s+\", skiprows=22, header=None)\n",
            "        data = np.hstack([raw_df.values[::2, :], raw_df.values[1::2, :2]])\n",
            "        target = raw_df.values[1::2, 2]\n",
            "\n",
            "    Alternative datasets include the California housing dataset (i.e.\n",
            "    :func:`~sklearn.datasets.fetch_california_housing`) and the Ames housing\n",
            "    dataset. You can load the datasets as follows::\n",
            "\n",
            "        from sklearn.datasets import fetch_california_housing\n",
            "        housing = fetch_california_housing()\n",
            "\n",
            "    for the California housing dataset and::\n",
            "\n",
            "        from sklearn.datasets import fetch_openml\n",
            "        housing = fetch_openml(name=\"house_prices\", as_frame=True)\n",
            "\n",
            "    for the Ames housing dataset.\n",
            "    \n",
            "  warnings.warn(msg, category=FutureWarning)\n"
          ]
        },
        {
          "data": {
            "text/plain": [
              "((506, 13), (506,))"
            ]
          },
          "execution_count": 54,
          "metadata": {},
          "output_type": "execute_result"
        }
      ],
      "source": [
        "x, y = load_boston(return_X_y=True)\n",
        "x.shape, y.shape"
      ]
    },
    {
      "cell_type": "code",
      "execution_count": 55,
      "metadata": {
        "id": "sFcnWo2R1HnK"
      },
      "outputs": [],
      "source": [
        "#Разделим на train и test\n",
        "x_train, x_test, y_train, y_test = train_test_split(x, y, test_size=0.33, random_state=42)\n",
        "\n",
        "#Пронормируем входные данные от 0 до 1\n",
        "scaler = preprocessing.MinMaxScaler(feature_range=(0, 1))\n",
        "x_train = scaler.fit_transform(x_train)\n",
        "x_test = scaler.transform(x_test)"
      ]
    },
    {
      "cell_type": "code",
      "execution_count": 56,
      "metadata": {
        "id": "kWuE0RGZPO4-"
      },
      "outputs": [],
      "source": [
        "from sklearn.metrics import r2_score as r2, mean_absolute_error as mae, mean_squared_error as mse\n",
        "import seaborn as sns\n",
        "\n",
        "def evaluate_preds(train_true_values, train_pred_values, test_true_values, test_pred_values):\n",
        "    print(\"Train R2:\\t\" + str(round(r2(train_true_values, train_pred_values), 6)) + \"\\n\" +\n",
        "            \"Train MAE:\\t\" + str(round(mae(train_true_values, train_pred_values), 6)) + \"\\n\" +\n",
        "            \"Train MSE:\\t\" + str(round(mse(train_true_values, train_pred_values), 6)))\n",
        "\n",
        "    print(\"\\n\" +\n",
        "            \"Test R2:\\t\" + str(round(r2(test_true_values, test_pred_values), 6)) + \"\\n\" +\n",
        "            \"Test MAE:\\t\" + str(round(mae(test_true_values, test_pred_values), 6)) + \"\\n\" +\n",
        "            \"Test MSE:\\t\" + str(round(mse(test_true_values, test_pred_values), 6)))\n",
        "    \n",
        "    plt.figure(figsize=(15,10))\n",
        "    \n",
        "    plt.subplot(121)\n",
        "    sns.scatterplot(x=train_pred_values, y=train_true_values)\n",
        "    plt.xlabel('Predicted values')\n",
        "    plt.ylabel('True values')\n",
        "    plt.title('Train sample prediction')\n",
        "    \n",
        "    plt.subplot(122)\n",
        "    sns.scatterplot(x=test_pred_values, y=test_true_values)\n",
        "    plt.xlabel('Predicted values')\n",
        "    plt.ylabel('True values')\n",
        "    plt.title('Test sample prediction')\n",
        "\n",
        "    plt.show()\n",
        "  "
      ]
    },
    {
      "cell_type": "code",
      "execution_count": 57,
      "metadata": {
        "id": "g-nelY0B5zjq"
      },
      "outputs": [],
      "source": [
        "def madel_fit(x_train, y_train, x_test, y_test, \n",
        "                epochs=20, number_neurons=128, number_layers=2, optimizer='adam', \n",
        "                activation='linear', loss='mse', metrics='r2' ):\n",
        "\n",
        "    model = keras.Sequential()\n",
        "    model.add(keras.layers.Flatten(input_shape=(x_train.shape[1],)))\n",
        "    if number_layers >= 2:\n",
        "        for i in range(number_layers-1):  \n",
        "            model.add(keras.layers.Dense(number_neurons, activation=activation)) \n",
        "    model.add(keras.layers.Dense(1, activation='linear'))# Только 1 выход, раз задача регрессии\n",
        "\n",
        "    if metrics == 'r2': metrics=tfa.metrics.RSquare()\n",
        "    #Compile the model.\n",
        "    model.compile(optimizer=optimizer,\n",
        "                  loss=loss,\n",
        "                  metrics=[metrics]\n",
        "                )\n",
        "    if tf.config.experimental.list_physical_devices(\"GPU\"):\n",
        "        with tf.device(\"GPU:0\"):\n",
        "            # Train the model.\n",
        "            history_train = model.fit(x_train,\n",
        "                                    y_train,\n",
        "                                    epochs=epochs,\n",
        "                                    batch_size=200,\n",
        "                                    validation_data = (x_test, y_test),\n",
        "                                    verbose=0\n",
        "                                    )\n",
        "    else:\n",
        "        with tf.device(\"CPU:0\"):\n",
        "            history_train = model.fit(x_train,\n",
        "                                        y_train,\n",
        "                                        epochs=epochs,\n",
        "                                        batch_size=200,\n",
        "                                        validation_data = (x_test, y_test),\n",
        "                                        verbose=0\n",
        "                                        )\n",
        "\n",
        "    return model, history_train"
      ]
    },
    {
      "cell_type": "markdown",
      "metadata": {
        "id": "NG4qqJcJ7yYD"
      },
      "source": [
        "# Практическое задание"
      ]
    },
    {
      "cell_type": "markdown",
      "metadata": {
        "id": "BbvBq9I-71VK"
      },
      "source": [
        "## 1. Постройте нейронную сеть(берем простую линейную сеть, меняем число слоев, число нейронов, типы активации, тип оптимизатора) на датасете from sklearn.datasets import load_boston."
      ]
    },
    {
      "cell_type": "markdown",
      "metadata": {
        "id": "YefxdZIgPWnZ"
      },
      "source": [
        "### Подберём число нейронов"
      ]
    },
    {
      "cell_type": "code",
      "execution_count": 58,
      "metadata": {
        "id": "DzsdghaUt7vw"
      },
      "outputs": [],
      "source": [
        "#количество эпох\n",
        "epoch = 100"
      ]
    },
    {
      "cell_type": "code",
      "execution_count": 59,
      "metadata": {
        "colab": {
          "base_uri": "https://localhost:8080/"
        },
        "id": "8DNZfxCOPYWg",
        "outputId": "4c9cd87f-3558-49e6-93b1-54db1b4630c2"
      },
      "outputs": [
        {
          "name": "stderr",
          "output_type": "stream",
          "text": [
            "100%|██████████| 6/6 [00:29<00:00,  4.85s/it]\n"
          ]
        }
      ],
      "source": [
        "results_1 = {'neurons': [],\n",
        "             'r2_train': [],\n",
        "             'r2_test': []}\n",
        "\n",
        "_neurons = [2**i for i in range(6,12)]\n",
        "\n",
        "for i in tqdm(_neurons):\n",
        "    \n",
        "    _, hist = madel_fit(x_train, y_train, x_test, y_test, number_neurons=i, epochs=epoch)\n",
        "\n",
        "    results_1['neurons'].append(i)\n",
        "    results_1['r2_train'].append(hist.history['r_square'][-1])\n",
        "    results_1['r2_test'].append(hist.history['val_r_square'][-1])"
      ]
    },
    {
      "cell_type": "code",
      "execution_count": 60,
      "metadata": {
        "colab": {
          "base_uri": "https://localhost:8080/",
          "height": 335
        },
        "id": "JjiBDhBaSVPs",
        "outputId": "f21b4c54-5702-4aef-e6ee-bb47ed614656"
      },
      "outputs": [
        {
          "data": {
            "image/png": "[encoded data removed]",
            "text/plain": [
              "<Figure size 720x360 with 1 Axes>"
            ]
          },
          "metadata": {
            "needs_background": "light"
          },
          "output_type": "display_data"
        }
      ],
      "source": [
        "plt.figure(figsize=(10, 5))\n",
        "plt.grid('On')\n",
        "plt.ylabel('R2')\n",
        "plt.xlabel('Кол-во нейронов')\n",
        "plt.plot(results_1['neurons'], results_1['r2_train'], label = 'Тренировка')\n",
        "plt.plot(results_1['neurons'], results_1['r2_test'], label = 'Тест')\n",
        "plt.legend()\n",
        "plt.show()"
      ]
    },
    {
      "cell_type": "markdown",
      "metadata": {
        "id": "OXftdebIioiH"
      },
      "source": [
        "_Здесь лучше себя показала модель с самым большим количествам нейронов, но я для дальнейшей работы возьму 1028_"
      ]
    },
    {
      "cell_type": "markdown",
      "metadata": {
        "id": "OarGUQKgOf-j"
      },
      "source": [
        "### Подберём число слоев"
      ]
    },
    {
      "cell_type": "code",
      "execution_count": 61,
      "metadata": {
        "colab": {
          "base_uri": "https://localhost:8080/"
        },
        "id": "noce0YcdOibz",
        "outputId": "f6d960d8-af16-4c0a-84ee-2a3e4450f4df"
      },
      "outputs": [
        {
          "name": "stderr",
          "output_type": "stream",
          "text": [
            "100%|██████████| 4/4 [00:19<00:00,  4.82s/it]\n"
          ]
        }
      ],
      "source": [
        "results_2 = {'layers': [],\n",
        "             'r2_train': [],\n",
        "             'r2_test': []}\n",
        "\n",
        "_layers = np.arange(2, 6)\n",
        "\n",
        "for i in tqdm(_layers):\n",
        "\n",
        "    _, hist = madel_fit(x_train, y_train, x_test, y_test, number_neurons=1024, epochs=epoch, number_layers=i)\n",
        "\n",
        "    results_2['layers'].append(i)\n",
        "    results_2['r2_train'].append(hist.history['r_square'][-1])\n",
        "    results_2['r2_test'].append(hist.history['val_r_square'][-1])"
      ]
    },
    {
      "cell_type": "code",
      "execution_count": 62,
      "metadata": {
        "colab": {
          "base_uri": "https://localhost:8080/",
          "height": 334
        },
        "id": "Li77tbD0Zvbk",
        "outputId": "d056f0f3-b210-4f8b-a193-eef5c7aa89be"
      },
      "outputs": [
        {
          "data": {
            "image/png": "[encoded data removed]",
            "text/plain": [
              "<Figure size 720x360 with 1 Axes>"
            ]
          },
          "metadata": {
            "needs_background": "light"
          },
          "output_type": "display_data"
        }
      ],
      "source": [
        "plt.figure(figsize=(10, 5))\n",
        "plt.grid('On')\n",
        "plt.ylabel('R2')\n",
        "plt.xlabel('Кол-во слоёв')\n",
        "plt.plot(results_2['layers'], results_2['r2_train'], label = 'Тренировка')\n",
        "plt.plot(results_2['layers'], results_2['r2_test'], label = 'Тест')\n",
        "plt.legend()\n",
        "plt.show()"
      ]
    },
    {
      "cell_type": "markdown",
      "metadata": {
        "id": "f6gXZ9SyiM7b"
      },
      "source": [
        "_Здесь лучше себя показала модель с 4-мя слоями_"
      ]
    },
    {
      "cell_type": "markdown",
      "metadata": {
        "id": "2UFSzHNjaXZU"
      },
      "source": [
        "### Подберём типы активации"
      ]
    },
    {
      "cell_type": "code",
      "execution_count": 63,
      "metadata": {
        "colab": {
          "base_uri": "https://localhost:8080/"
        },
        "id": "51bm6AfXaDxz",
        "outputId": "b1e71db4-0be0-4ef7-fa88-c244658b0f13"
      },
      "outputs": [
        {
          "name": "stderr",
          "output_type": "stream",
          "text": [
            "100%|██████████| 13/13 [00:55<00:00,  4.25s/it]\n"
          ]
        }
      ],
      "source": [
        "# Возьмем все известные\n",
        "activations = ['elu', 'exponential', 'gelu', 'hard_sigmoid','linear', 'relu', 'selu',\n",
        "               'sigmoid', 'softmax', 'softplus',  'softsign', 'swish', 'tanh']\n",
        "results_3 = {'activation': [],\n",
        "             'r2_train': [],\n",
        "             'r2_test': []}\n",
        "\n",
        "for i in tqdm(activations):\n",
        "\n",
        "    _, hist = madel_fit(x_train, y_train, x_test, y_test, \n",
        "                        number_neurons=1024, epochs=epoch, number_layers=4,\n",
        "                        activation=i)\n",
        "    \n",
        "    results_3['activation'].append(i)\n",
        "    results_3['r2_train'].append(hist.history['r_square'][-1])\n",
        "    results_3['r2_test'].append(hist.history['val_r_square'][-1])"
      ]
    },
    {
      "cell_type": "code",
      "execution_count": 64,
      "metadata": {
        "colab": {
          "base_uri": "https://localhost:8080/",
          "height": 457
        },
        "id": "-fNjEAQkacob",
        "outputId": "79a19941-9e23-41af-d072-2d53e6cec77e"
      },
      "outputs": [
        {
          "data": {
            "text/html": [
              "\n",
              "  <div id=\"df-defa22ca-9cad-494b-a48e-0f54052d2e15\">\n",
              "    <div class=\"colab-df-container\">\n",
              "      <div>\n",
              "<style scoped>\n",
              "    .dataframe tbody tr th:only-of-type {\n",
              "        vertical-align: middle;\n",
              "    }\n",
              "\n",
              "    .dataframe tbody tr th {\n",
              "        vertical-align: top;\n",
              "    }\n",
              "\n",
              "    .dataframe thead th {\n",
              "        text-align: right;\n",
              "    }\n",
              "</style>\n",
              "<table border=\"1\" class=\"dataframe\">\n",
              "  <thead>\n",
              "    <tr style=\"text-align: right;\">\n",
              "      <th></th>\n",
              "      <th>activation</th>\n",
              "      <th>r2_train</th>\n",
              "      <th>r2_test</th>\n",
              "    </tr>\n",
              "  </thead>\n",
              "  <tbody>\n",
              "    <tr>\n",
              "      <th>0</th>\n",
              "      <td>relu</td>\n",
              "      <td>0.923510</td>\n",
              "      <td>0.857233</td>\n",
              "    </tr>\n",
              "    <tr>\n",
              "      <th>1</th>\n",
              "      <td>selu</td>\n",
              "      <td>0.867423</td>\n",
              "      <td>0.829005</td>\n",
              "    </tr>\n",
              "    <tr>\n",
              "      <th>2</th>\n",
              "      <td>gelu</td>\n",
              "      <td>0.801432</td>\n",
              "      <td>0.810548</td>\n",
              "    </tr>\n",
              "    <tr>\n",
              "      <th>3</th>\n",
              "      <td>tanh</td>\n",
              "      <td>0.846980</td>\n",
              "      <td>0.794506</td>\n",
              "    </tr>\n",
              "    <tr>\n",
              "      <th>4</th>\n",
              "      <td>elu</td>\n",
              "      <td>0.809506</td>\n",
              "      <td>0.791700</td>\n",
              "    </tr>\n",
              "    <tr>\n",
              "      <th>5</th>\n",
              "      <td>swish</td>\n",
              "      <td>0.790512</td>\n",
              "      <td>0.774250</td>\n",
              "    </tr>\n",
              "    <tr>\n",
              "      <th>6</th>\n",
              "      <td>softsign</td>\n",
              "      <td>0.827911</td>\n",
              "      <td>0.756519</td>\n",
              "    </tr>\n",
              "    <tr>\n",
              "      <th>7</th>\n",
              "      <td>linear</td>\n",
              "      <td>0.722692</td>\n",
              "      <td>0.708596</td>\n",
              "    </tr>\n",
              "    <tr>\n",
              "      <th>8</th>\n",
              "      <td>softplus</td>\n",
              "      <td>0.581539</td>\n",
              "      <td>0.547635</td>\n",
              "    </tr>\n",
              "    <tr>\n",
              "      <th>9</th>\n",
              "      <td>hard_sigmoid</td>\n",
              "      <td>-0.000209</td>\n",
              "      <td>-0.020909</td>\n",
              "    </tr>\n",
              "    <tr>\n",
              "      <th>10</th>\n",
              "      <td>sigmoid</td>\n",
              "      <td>-0.000075</td>\n",
              "      <td>-0.020961</td>\n",
              "    </tr>\n",
              "    <tr>\n",
              "      <th>11</th>\n",
              "      <td>softmax</td>\n",
              "      <td>-5.773161</td>\n",
              "      <td>-5.954336</td>\n",
              "    </tr>\n",
              "    <tr>\n",
              "      <th>12</th>\n",
              "      <td>exponential</td>\n",
              "      <td>NaN</td>\n",
              "      <td>NaN</td>\n",
              "    </tr>\n",
              "  </tbody>\n",
              "</table>\n",
              "</div>\n",
              "      <button class=\"colab-df-convert\" onclick=\"convertToInteractive('df-defa22ca-9cad-494b-a48e-0f54052d2e15')\"\n",
              "              title=\"Convert this dataframe to an interactive table.\"\n",
              "              style=\"display:none;\">\n",
              "        \n",
              "  <svg xmlns=\"http://www.w3.org/2000/svg\" height=\"24px\"viewBox=\"0 0 24 24\"\n",
              "       width=\"24px\">\n",
              "    <path d=\"M0 0h24v24H0V0z\" fill=\"none\"/>\n",
              "    <path d=\"M18.56 5.44l.94 2.06.94-2.06 2.06-.94-2.06-.94-.94-2.06-.94 2.06-2.06.94zm-11 1L8.5 8.5l.94-2.06 2.06-.94-2.06-.94L8.5 2.5l-.94 2.06-2.06.94zm10 10l.94 2.06.94-2.06 2.06-.94-2.06-.94-.94-2.06-.94 2.06-2.06.94z\"/><path d=\"M17.41 7.96l-1.37-1.37c-.4-.4-.92-.59-1.43-.59-.52 0-1.04.2-1.43.59L10.3 9.45l-7.72 7.72c-.78.78-.78 2.05 0 2.83L4 21.41c.39.39.9.59 1.41.59.51 0 1.02-.2 1.41-.59l7.78-7.78 2.81-2.81c.8-.78.8-2.07 0-2.86zM5.41 20L4 18.59l7.72-7.72 1.47 1.35L5.41 20z\"/>\n",
              "  </svg>\n",
              "      </button>\n",
              "      \n",
              "  <style>\n",
              "    .colab-df-container {\n",
              "      display:flex;\n",
              "      flex-wrap:wrap;\n",
              "      gap: 12px;\n",
              "    }\n",
              "\n",
              "    .colab-df-convert {\n",
              "      background-color: #E8F0FE;\n",
              "      border: none;\n",
              "      border-radius: 50%;\n",
              "      cursor: pointer;\n",
              "      display: none;\n",
              "      fill: #1967D2;\n",
              "      height: 32px;\n",
              "      padding: 0 0 0 0;\n",
              "      width: 32px;\n",
              "    }\n",
              "\n",
              "    .colab-df-convert:hover {\n",
              "      background-color: #E2EBFA;\n",
              "      box-shadow: 0px 1px 2px rgba(60, 64, 67, 0.3), 0px 1px 3px 1px rgba(60, 64, 67, 0.15);\n",
              "      fill: #174EA6;\n",
              "    }\n",
              "\n",
              "    [theme=dark] .colab-df-convert {\n",
              "      background-color: #3B4455;\n",
              "      fill: #D2E3FC;\n",
              "    }\n",
              "\n",
              "    [theme=dark] .colab-df-convert:hover {\n",
              "      background-color: #434B5C;\n",
              "      box-shadow: 0px 1px 3px 1px rgba(0, 0, 0, 0.15);\n",
              "      filter: drop-shadow(0px 1px 2px rgba(0, 0, 0, 0.3));\n",
              "      fill: #FFFFFF;\n",
              "    }\n",
              "  </style>\n",
              "\n",
              "      <script>\n",
              "        const buttonEl =\n",
              "          document.querySelector('#df-defa22ca-9cad-494b-a48e-0f54052d2e15 button.colab-df-convert');\n",
              "        buttonEl.style.display =\n",
              "          google.colab.kernel.accessAllowed ? 'block' : 'none';\n",
              "\n",
              "        async function convertToInteractive(key) {\n",
              "          const element = document.querySelector('#df-defa22ca-9cad-494b-a48e-0f54052d2e15');\n",
              "          const dataTable =\n",
              "            await google.colab.kernel.invokeFunction('convertToInteractive',\n",
              "                                                     [key], {});\n",
              "          if (!dataTable) return;\n",
              "\n",
              "          const docLinkHtml = 'Like what you see? Visit the ' +\n",
              "            '<a target=\"_blank\" href=https://colab.research.google.com/notebooks/data_table.ipynb>data table notebook</a>'\n",
              "            + ' to learn more about interactive tables.';\n",
              "          element.innerHTML = '';\n",
              "          dataTable['output_type'] = 'display_data';\n",
              "          await google.colab.output.renderOutput(dataTable, element);\n",
              "          const docLink = document.createElement('div');\n",
              "          docLink.innerHTML = docLinkHtml;\n",
              "          element.appendChild(docLink);\n",
              "        }\n",
              "      </script>\n",
              "    </div>\n",
              "  </div>\n",
              "  "
            ],
            "text/plain": [
              "      activation  r2_train   r2_test\n",
              "0           relu  0.923510  0.857233\n",
              "1           selu  0.867423  0.829005\n",
              "2           gelu  0.801432  0.810548\n",
              "3           tanh  0.846980  0.794506\n",
              "4            elu  0.809506  0.791700\n",
              "5          swish  0.790512  0.774250\n",
              "6       softsign  0.827911  0.756519\n",
              "7         linear  0.722692  0.708596\n",
              "8       softplus  0.581539  0.547635\n",
              "9   hard_sigmoid -0.000209 -0.020909\n",
              "10       sigmoid -0.000075 -0.020961\n",
              "11       softmax -5.773161 -5.954336\n",
              "12   exponential       NaN       NaN"
            ]
          },
          "execution_count": 64,
          "metadata": {},
          "output_type": "execute_result"
        }
      ],
      "source": [
        "pd.DataFrame(results_3).sort_values('r2_test', ascending=False).reset_index(drop=True)"
      ]
    },
    {
      "cell_type": "markdown",
      "metadata": {
        "id": "kr1MrR7ziGSk"
      },
      "source": [
        "_Здесь лучше себя показала \"relu\"_"
      ]
    },
    {
      "cell_type": "markdown",
      "metadata": {
        "id": "4Jdckqe2sshK"
      },
      "source": [
        "### Подберём оптимизаторы"
      ]
    },
    {
      "cell_type": "code",
      "execution_count": 65,
      "metadata": {
        "colab": {
          "base_uri": "https://localhost:8080/"
        },
        "id": "6B7YQf4HsmzQ",
        "outputId": "50afc733-f3c1-4e34-ad3e-61bf1518fa68"
      },
      "outputs": [
        {
          "name": "stderr",
          "output_type": "stream",
          "text": [
            "100%|██████████| 8/8 [00:28<00:00,  3.58s/it]\n"
          ]
        }
      ],
      "source": [
        "# Возьмем все известные\n",
        "optimizers = ['Adadelta','Adagrad','Adam','Adamax',\n",
        "              'Ftrl', 'Nadam','RMSprop','SGD']\n",
        "\n",
        "results_4 = {'optimizers': [],\n",
        "             'r2_train': [],\n",
        "             'r2_test': []}\n",
        "\n",
        "for i in tqdm(optimizers):\n",
        "\n",
        "    _, hist = madel_fit(x_train, y_train, x_test, y_test, \n",
        "                        number_neurons=1024, epochs=epoch, number_layers=4,\n",
        "                        activation='relu', optimizer=i)\n",
        "    \n",
        "    results_4['optimizers'].append(i)\n",
        "    results_4['r2_train'].append(hist.history['r_square'][-1])\n",
        "    results_4['r2_test'].append(hist.history['val_r_square'][-1])"
      ]
    },
    {
      "cell_type": "code",
      "execution_count": 66,
      "metadata": {
        "colab": {
          "base_uri": "https://localhost:8080/",
          "height": 300
        },
        "id": "i0jlXRD-tlZo",
        "outputId": "082799ef-825f-4fd0-c9d8-f09620f5d0bc"
      },
      "outputs": [
        {
          "data": {
            "text/html": [
              "\n",
              "  <div id=\"df-6f959e5f-cf4d-4b2e-b8f9-b0e54042e7d9\">\n",
              "    <div class=\"colab-df-container\">\n",
              "      <div>\n",
              "<style scoped>\n",
              "    .dataframe tbody tr th:only-of-type {\n",
              "        vertical-align: middle;\n",
              "    }\n",
              "\n",
              "    .dataframe tbody tr th {\n",
              "        vertical-align: top;\n",
              "    }\n",
              "\n",
              "    .dataframe thead th {\n",
              "        text-align: right;\n",
              "    }\n",
              "</style>\n",
              "<table border=\"1\" class=\"dataframe\">\n",
              "  <thead>\n",
              "    <tr style=\"text-align: right;\">\n",
              "      <th></th>\n",
              "      <th>optimizers</th>\n",
              "      <th>r2_train</th>\n",
              "      <th>r2_test</th>\n",
              "    </tr>\n",
              "  </thead>\n",
              "  <tbody>\n",
              "    <tr>\n",
              "      <th>0</th>\n",
              "      <td>Adam</td>\n",
              "      <td>0.926896</td>\n",
              "      <td>0.861159</td>\n",
              "    </tr>\n",
              "    <tr>\n",
              "      <th>1</th>\n",
              "      <td>Adamax</td>\n",
              "      <td>0.860985</td>\n",
              "      <td>0.831221</td>\n",
              "    </tr>\n",
              "    <tr>\n",
              "      <th>2</th>\n",
              "      <td>Nadam</td>\n",
              "      <td>0.683268</td>\n",
              "      <td>0.807636</td>\n",
              "    </tr>\n",
              "    <tr>\n",
              "      <th>3</th>\n",
              "      <td>RMSprop</td>\n",
              "      <td>0.886479</td>\n",
              "      <td>0.730689</td>\n",
              "    </tr>\n",
              "    <tr>\n",
              "      <th>4</th>\n",
              "      <td>Adagrad</td>\n",
              "      <td>0.646235</td>\n",
              "      <td>0.617443</td>\n",
              "    </tr>\n",
              "    <tr>\n",
              "      <th>5</th>\n",
              "      <td>Ftrl</td>\n",
              "      <td>0.435142</td>\n",
              "      <td>0.402120</td>\n",
              "    </tr>\n",
              "    <tr>\n",
              "      <th>6</th>\n",
              "      <td>Adadelta</td>\n",
              "      <td>-5.714069</td>\n",
              "      <td>-5.884953</td>\n",
              "    </tr>\n",
              "    <tr>\n",
              "      <th>7</th>\n",
              "      <td>SGD</td>\n",
              "      <td>NaN</td>\n",
              "      <td>NaN</td>\n",
              "    </tr>\n",
              "  </tbody>\n",
              "</table>\n",
              "</div>\n",
              "      <button class=\"colab-df-convert\" onclick=\"convertToInteractive('df-6f959e5f-cf4d-4b2e-b8f9-b0e54042e7d9')\"\n",
              "              title=\"Convert this dataframe to an interactive table.\"\n",
              "              style=\"display:none;\">\n",
              "        \n",
              "  <svg xmlns=\"http://www.w3.org/2000/svg\" height=\"24px\"viewBox=\"0 0 24 24\"\n",
              "       width=\"24px\">\n",
              "    <path d=\"M0 0h24v24H0V0z\" fill=\"none\"/>\n",
              "    <path d=\"M18.56 5.44l.94 2.06.94-2.06 2.06-.94-2.06-.94-.94-2.06-.94 2.06-2.06.94zm-11 1L8.5 8.5l.94-2.06 2.06-.94-2.06-.94L8.5 2.5l-.94 2.06-2.06.94zm10 10l.94 2.06.94-2.06 2.06-.94-2.06-.94-.94-2.06-.94 2.06-2.06.94z\"/><path d=\"M17.41 7.96l-1.37-1.37c-.4-.4-.92-.59-1.43-.59-.52 0-1.04.2-1.43.59L10.3 9.45l-7.72 7.72c-.78.78-.78 2.05 0 2.83L4 21.41c.39.39.9.59 1.41.59.51 0 1.02-.2 1.41-.59l7.78-7.78 2.81-2.81c.8-.78.8-2.07 0-2.86zM5.41 20L4 18.59l7.72-7.72 1.47 1.35L5.41 20z\"/>\n",
              "  </svg>\n",
              "      </button>\n",
              "      \n",
              "  <style>\n",
              "    .colab-df-container {\n",
              "      display:flex;\n",
              "      flex-wrap:wrap;\n",
              "      gap: 12px;\n",
              "    }\n",
              "\n",
              "    .colab-df-convert {\n",
              "      background-color: #E8F0FE;\n",
              "      border: none;\n",
              "      border-radius: 50%;\n",
              "      cursor: pointer;\n",
              "      display: none;\n",
              "      fill: #1967D2;\n",
              "      height: 32px;\n",
              "      padding: 0 0 0 0;\n",
              "      width: 32px;\n",
              "    }\n",
              "\n",
              "    .colab-df-convert:hover {\n",
              "      background-color: #E2EBFA;\n",
              "      box-shadow: 0px 1px 2px rgba(60, 64, 67, 0.3), 0px 1px 3px 1px rgba(60, 64, 67, 0.15);\n",
              "      fill: #174EA6;\n",
              "    }\n",
              "\n",
              "    [theme=dark] .colab-df-convert {\n",
              "      background-color: #3B4455;\n",
              "      fill: #D2E3FC;\n",
              "    }\n",
              "\n",
              "    [theme=dark] .colab-df-convert:hover {\n",
              "      background-color: #434B5C;\n",
              "      box-shadow: 0px 1px 3px 1px rgba(0, 0, 0, 0.15);\n",
              "      filter: drop-shadow(0px 1px 2px rgba(0, 0, 0, 0.3));\n",
              "      fill: #FFFFFF;\n",
              "    }\n",
              "  </style>\n",
              "\n",
              "      <script>\n",
              "        const buttonEl =\n",
              "          document.querySelector('#df-6f959e5f-cf4d-4b2e-b8f9-b0e54042e7d9 button.colab-df-convert');\n",
              "        buttonEl.style.display =\n",
              "          google.colab.kernel.accessAllowed ? 'block' : 'none';\n",
              "\n",
              "        async function convertToInteractive(key) {\n",
              "          const element = document.querySelector('#df-6f959e5f-cf4d-4b2e-b8f9-b0e54042e7d9');\n",
              "          const dataTable =\n",
              "            await google.colab.kernel.invokeFunction('convertToInteractive',\n",
              "                                                     [key], {});\n",
              "          if (!dataTable) return;\n",
              "\n",
              "          const docLinkHtml = 'Like what you see? Visit the ' +\n",
              "            '<a target=\"_blank\" href=https://colab.research.google.com/notebooks/data_table.ipynb>data table notebook</a>'\n",
              "            + ' to learn more about interactive tables.';\n",
              "          element.innerHTML = '';\n",
              "          dataTable['output_type'] = 'display_data';\n",
              "          await google.colab.output.renderOutput(dataTable, element);\n",
              "          const docLink = document.createElement('div');\n",
              "          docLink.innerHTML = docLinkHtml;\n",
              "          element.appendChild(docLink);\n",
              "        }\n",
              "      </script>\n",
              "    </div>\n",
              "  </div>\n",
              "  "
            ],
            "text/plain": [
              "  optimizers  r2_train   r2_test\n",
              "0       Adam  0.926896  0.861159\n",
              "1     Adamax  0.860985  0.831221\n",
              "2      Nadam  0.683268  0.807636\n",
              "3    RMSprop  0.886479  0.730689\n",
              "4    Adagrad  0.646235  0.617443\n",
              "5       Ftrl  0.435142  0.402120\n",
              "6   Adadelta -5.714069 -5.884953\n",
              "7        SGD       NaN       NaN"
            ]
          },
          "execution_count": 66,
          "metadata": {},
          "output_type": "execute_result"
        }
      ],
      "source": [
        "pd.DataFrame(results_4).sort_values('r2_test', ascending=False).reset_index(drop=True)"
      ]
    },
    {
      "cell_type": "markdown",
      "metadata": {
        "id": "zcTZUYxuwdd5"
      },
      "source": [
        "_Здесь лучше себя показал Adam_"
      ]
    },
    {
      "cell_type": "markdown",
      "metadata": {
        "id": "c294xGrVac9w"
      },
      "source": [
        "## 2. Измените функцию потерь и метрику для этой задачи. Постройте 10-15 вариантов и сведите результаты их работы в таблицу Опишите, какого результата вы добились от нейросети? Что помогло вам улучшить ее точность?"
      ]
    },
    {
      "cell_type": "code",
      "execution_count": 67,
      "metadata": {
        "colab": {
          "base_uri": "https://localhost:8080/"
        },
        "id": "OY3LY05JmcPf",
        "outputId": "f982d6af-3323-424a-b5c0-ecf09c760edb"
      },
      "outputs": [
        {
          "name": "stderr",
          "output_type": "stream",
          "text": [
            "100%|██████████| 4/4 [00:51<00:00, 12.86s/it]\n"
          ]
        }
      ],
      "source": [
        "losses = ['LogCosh', 'MAE', 'MSE', 'MSLE']\n",
        "metrics = ['r2', 'MAE', 'MSE', 'MSLE']\n",
        "\n",
        "results_5 = {'metric': [],\n",
        "             'loss': [],\n",
        "             'r2_test': []\n",
        "             }\n",
        "\n",
        "for loss in tqdm(losses):\n",
        "    for metric in metrics:\n",
        "\n",
        "        model, _ = madel_fit(x_train, y_train, x_test, y_test, \n",
        "                        number_neurons=1024, epochs=epoch, number_layers=4,\n",
        "                        activation='relu',optimizer='Adam', loss=loss, metrics=metric)\n",
        "        \n",
        "        y_pred = model.predict(x_test, verbose=0)\n",
        "        r2_test = r2(y_test, y_pred)\n",
        "\n",
        "        results_5['loss'].append(loss)\n",
        "        results_5['metric'].append(metric)\n",
        "        results_5['r2_test'].append(r2_test) "
      ]
    },
    {
      "cell_type": "code",
      "execution_count": 68,
      "metadata": {
        "colab": {
          "base_uri": "https://localhost:8080/",
          "height": 551
        },
        "id": "X_nHNXcipB0n",
        "outputId": "d6291284-10c7-49a5-82b5-c9227cf1c84e"
      },
      "outputs": [
        {
          "data": {
            "text/html": [
              "\n",
              "  <div id=\"df-ecd9a4e9-afa5-4096-b84b-dfdc233ed4f6\">\n",
              "    <div class=\"colab-df-container\">\n",
              "      <div>\n",
              "<style scoped>\n",
              "    .dataframe tbody tr th:only-of-type {\n",
              "        vertical-align: middle;\n",
              "    }\n",
              "\n",
              "    .dataframe tbody tr th {\n",
              "        vertical-align: top;\n",
              "    }\n",
              "\n",
              "    .dataframe thead th {\n",
              "        text-align: right;\n",
              "    }\n",
              "</style>\n",
              "<table border=\"1\" class=\"dataframe\">\n",
              "  <thead>\n",
              "    <tr style=\"text-align: right;\">\n",
              "      <th></th>\n",
              "      <th>metric</th>\n",
              "      <th>loss</th>\n",
              "      <th>r2_test</th>\n",
              "    </tr>\n",
              "  </thead>\n",
              "  <tbody>\n",
              "    <tr>\n",
              "      <th>0</th>\n",
              "      <td>r2</td>\n",
              "      <td>MSE</td>\n",
              "      <td>0.864294</td>\n",
              "    </tr>\n",
              "    <tr>\n",
              "      <th>1</th>\n",
              "      <td>MAE</td>\n",
              "      <td>MSE</td>\n",
              "      <td>0.861119</td>\n",
              "    </tr>\n",
              "    <tr>\n",
              "      <th>2</th>\n",
              "      <td>MSLE</td>\n",
              "      <td>MSE</td>\n",
              "      <td>0.859477</td>\n",
              "    </tr>\n",
              "    <tr>\n",
              "      <th>3</th>\n",
              "      <td>MAE</td>\n",
              "      <td>LogCosh</td>\n",
              "      <td>0.858445</td>\n",
              "    </tr>\n",
              "    <tr>\n",
              "      <th>4</th>\n",
              "      <td>r2</td>\n",
              "      <td>LogCosh</td>\n",
              "      <td>0.857974</td>\n",
              "    </tr>\n",
              "    <tr>\n",
              "      <th>5</th>\n",
              "      <td>MSE</td>\n",
              "      <td>MSE</td>\n",
              "      <td>0.853922</td>\n",
              "    </tr>\n",
              "    <tr>\n",
              "      <th>6</th>\n",
              "      <td>MSLE</td>\n",
              "      <td>LogCosh</td>\n",
              "      <td>0.853527</td>\n",
              "    </tr>\n",
              "    <tr>\n",
              "      <th>7</th>\n",
              "      <td>r2</td>\n",
              "      <td>MAE</td>\n",
              "      <td>0.846320</td>\n",
              "    </tr>\n",
              "    <tr>\n",
              "      <th>8</th>\n",
              "      <td>r2</td>\n",
              "      <td>MSLE</td>\n",
              "      <td>0.846127</td>\n",
              "    </tr>\n",
              "    <tr>\n",
              "      <th>9</th>\n",
              "      <td>MSE</td>\n",
              "      <td>MSLE</td>\n",
              "      <td>0.844217</td>\n",
              "    </tr>\n",
              "    <tr>\n",
              "      <th>10</th>\n",
              "      <td>MSLE</td>\n",
              "      <td>MSLE</td>\n",
              "      <td>0.842664</td>\n",
              "    </tr>\n",
              "    <tr>\n",
              "      <th>11</th>\n",
              "      <td>MAE</td>\n",
              "      <td>MSLE</td>\n",
              "      <td>0.841677</td>\n",
              "    </tr>\n",
              "    <tr>\n",
              "      <th>12</th>\n",
              "      <td>MAE</td>\n",
              "      <td>MAE</td>\n",
              "      <td>0.839384</td>\n",
              "    </tr>\n",
              "    <tr>\n",
              "      <th>13</th>\n",
              "      <td>MSE</td>\n",
              "      <td>LogCosh</td>\n",
              "      <td>0.837132</td>\n",
              "    </tr>\n",
              "    <tr>\n",
              "      <th>14</th>\n",
              "      <td>MSLE</td>\n",
              "      <td>MAE</td>\n",
              "      <td>0.821310</td>\n",
              "    </tr>\n",
              "    <tr>\n",
              "      <th>15</th>\n",
              "      <td>MSE</td>\n",
              "      <td>MAE</td>\n",
              "      <td>0.803670</td>\n",
              "    </tr>\n",
              "  </tbody>\n",
              "</table>\n",
              "</div>\n",
              "      <button class=\"colab-df-convert\" onclick=\"convertToInteractive('df-ecd9a4e9-afa5-4096-b84b-dfdc233ed4f6')\"\n",
              "              title=\"Convert this dataframe to an interactive table.\"\n",
              "              style=\"display:none;\">\n",
              "        \n",
              "  <svg xmlns=\"http://www.w3.org/2000/svg\" height=\"24px\"viewBox=\"0 0 24 24\"\n",
              "       width=\"24px\">\n",
              "    <path d=\"M0 0h24v24H0V0z\" fill=\"none\"/>\n",
              "    <path d=\"M18.56 5.44l.94 2.06.94-2.06 2.06-.94-2.06-.94-.94-2.06-.94 2.06-2.06.94zm-11 1L8.5 8.5l.94-2.06 2.06-.94-2.06-.94L8.5 2.5l-.94 2.06-2.06.94zm10 10l.94 2.06.94-2.06 2.06-.94-2.06-.94-.94-2.06-.94 2.06-2.06.94z\"/><path d=\"M17.41 7.96l-1.37-1.37c-.4-.4-.92-.59-1.43-.59-.52 0-1.04.2-1.43.59L10.3 9.45l-7.72 7.72c-.78.78-.78 2.05 0 2.83L4 21.41c.39.39.9.59 1.41.59.51 0 1.02-.2 1.41-.59l7.78-7.78 2.81-2.81c.8-.78.8-2.07 0-2.86zM5.41 20L4 18.59l7.72-7.72 1.47 1.35L5.41 20z\"/>\n",
              "  </svg>\n",
              "      </button>\n",
              "      \n",
              "  <style>\n",
              "    .colab-df-container {\n",
              "      display:flex;\n",
              "      flex-wrap:wrap;\n",
              "      gap: 12px;\n",
              "    }\n",
              "\n",
              "    .colab-df-convert {\n",
              "      background-color: #E8F0FE;\n",
              "      border: none;\n",
              "      border-radius: 50%;\n",
              "      cursor: pointer;\n",
              "      display: none;\n",
              "      fill: #1967D2;\n",
              "      height: 32px;\n",
              "      padding: 0 0 0 0;\n",
              "      width: 32px;\n",
              "    }\n",
              "\n",
              "    .colab-df-convert:hover {\n",
              "      background-color: #E2EBFA;\n",
              "      box-shadow: 0px 1px 2px rgba(60, 64, 67, 0.3), 0px 1px 3px 1px rgba(60, 64, 67, 0.15);\n",
              "      fill: #174EA6;\n",
              "    }\n",
              "\n",
              "    [theme=dark] .colab-df-convert {\n",
              "      background-color: #3B4455;\n",
              "      fill: #D2E3FC;\n",
              "    }\n",
              "\n",
              "    [theme=dark] .colab-df-convert:hover {\n",
              "      background-color: #434B5C;\n",
              "      box-shadow: 0px 1px 3px 1px rgba(0, 0, 0, 0.15);\n",
              "      filter: drop-shadow(0px 1px 2px rgba(0, 0, 0, 0.3));\n",
              "      fill: #FFFFFF;\n",
              "    }\n",
              "  </style>\n",
              "\n",
              "      <script>\n",
              "        const buttonEl =\n",
              "          document.querySelector('#df-ecd9a4e9-afa5-4096-b84b-dfdc233ed4f6 button.colab-df-convert');\n",
              "        buttonEl.style.display =\n",
              "          google.colab.kernel.accessAllowed ? 'block' : 'none';\n",
              "\n",
              "        async function convertToInteractive(key) {\n",
              "          const element = document.querySelector('#df-ecd9a4e9-afa5-4096-b84b-dfdc233ed4f6');\n",
              "          const dataTable =\n",
              "            await google.colab.kernel.invokeFunction('convertToInteractive',\n",
              "                                                     [key], {});\n",
              "          if (!dataTable) return;\n",
              "\n",
              "          const docLinkHtml = 'Like what you see? Visit the ' +\n",
              "            '<a target=\"_blank\" href=https://colab.research.google.com/notebooks/data_table.ipynb>data table notebook</a>'\n",
              "            + ' to learn more about interactive tables.';\n",
              "          element.innerHTML = '';\n",
              "          dataTable['output_type'] = 'display_data';\n",
              "          await google.colab.output.renderOutput(dataTable, element);\n",
              "          const docLink = document.createElement('div');\n",
              "          docLink.innerHTML = docLinkHtml;\n",
              "          element.appendChild(docLink);\n",
              "        }\n",
              "      </script>\n",
              "    </div>\n",
              "  </div>\n",
              "  "
            ],
            "text/plain": [
              "   metric     loss   r2_test\n",
              "0      r2      MSE  0.864294\n",
              "1     MAE      MSE  0.861119\n",
              "2    MSLE      MSE  0.859477\n",
              "3     MAE  LogCosh  0.858445\n",
              "4      r2  LogCosh  0.857974\n",
              "5     MSE      MSE  0.853922\n",
              "6    MSLE  LogCosh  0.853527\n",
              "7      r2      MAE  0.846320\n",
              "8      r2     MSLE  0.846127\n",
              "9     MSE     MSLE  0.844217\n",
              "10   MSLE     MSLE  0.842664\n",
              "11    MAE     MSLE  0.841677\n",
              "12    MAE      MAE  0.839384\n",
              "13    MSE  LogCosh  0.837132\n",
              "14   MSLE      MAE  0.821310\n",
              "15    MSE      MAE  0.803670"
            ]
          },
          "execution_count": 68,
          "metadata": {},
          "output_type": "execute_result"
        }
      ],
      "source": [
        "pd.DataFrame(results_5).sort_values('r2_test', ascending=False).reset_index(drop=True)"
      ]
    },
    {
      "cell_type": "markdown",
      "metadata": {
        "id": "Dbpc-ch9xoI_"
      },
      "source": [
        "_Здесь лучше себя показала связка MSLE-MSE_"
      ]
    },
    {
      "cell_type": "markdown",
      "metadata": {
        "id": "xkLBwQXFpygb"
      },
      "source": [
        "### Оптимальный вариант"
      ]
    },
    {
      "cell_type": "code",
      "execution_count": 69,
      "metadata": {
        "id": "FzvkKBpVp0pW"
      },
      "outputs": [],
      "source": [
        "model, hist = madel_fit(x_train, y_train, x_test, y_test, \n",
        "                        number_neurons=1024, epochs=epoch, number_layers=4,\n",
        "                        activation='relu',optimizer='Adam', loss='MSE', metrics='MSLE')\n",
        "\n",
        "y_train_preds = model.predict(x_train)\n",
        "y_test_preds = model.predict(x_test)"
      ]
    },
    {
      "cell_type": "code",
      "execution_count": 70,
      "metadata": {
        "colab": {
          "base_uri": "https://localhost:8080/",
          "height": 350
        },
        "id": "umHs1kbjqNHg",
        "outputId": "10e7c54b-8375-4b53-8a04-faca5b45053d"
      },
      "outputs": [
        {
          "data": {
            "image/png": "[encoded data removed]",
            "text/plain": [
              "<Figure size 720x360 with 1 Axes>"
            ]
          },
          "metadata": {
            "needs_background": "light"
          },
          "output_type": "display_data"
        }
      ],
      "source": [
        "plt.figure(figsize=(10, 5))\n",
        "plt.plot(hist.history['MSLE'] ,label='val')\n",
        "plt.plot(hist.history['val_MSLE'] ,label='train')\n",
        "plt.legend()\n",
        "plt.xlabel('epoch')\n",
        "plt.ylabel('MSLE')\n",
        "plt.title('точность сети от эпох')\n",
        "plt.grid()\n",
        "plt.show()"
      ]
    },
    {
      "cell_type": "code",
      "execution_count": 71,
      "metadata": {
        "colab": {
          "base_uri": "https://localhost:8080/",
          "height": 742
        },
        "id": "rfG9Lfoiqxgc",
        "outputId": "d67e2adb-f114-4a17-c1af-b379d6e21b8c"
      },
      "outputs": [
        {
          "name": "stdout",
          "output_type": "stream",
          "text": [
            "Train R2:\t0.929103\n",
            "Train MAE:\t1.78725\n",
            "Train MSE:\t6.249202\n",
            "\n",
            "Test R2:\t0.862217\n",
            "Test MAE:\t2.206158\n",
            "Test MSE:\t10.427239\n"
          ]
        },
        {
          "data": {
            "image/png": "[encoded data removed]",
            "text/plain": [
              "<Figure size 1080x720 with 2 Axes>"
            ]
          },
          "metadata": {
            "needs_background": "light"
          },
          "output_type": "display_data"
        }
      ],
      "source": [
        "evaluate_preds(y_train, y_train_preds.reshape(1, y_train_preds.shape[0])[0], y_test, y_test_preds.reshape(1, y_test_preds.shape[0])[0])"
      ]
    }
  ],
  "metadata": {
    "colab": {
      "collapsed_sections": [
        "7visJWlexmOy"
      ],
      "name": "Введение в искусственные нейронные сети ДЗ_3.ipynb",
      "provenance": []
    },
    "interpreter": {
      "hash": "c04fbba28c5fbfaf43d34390ac7e98e34943c1430afb322213ae62fcdb8e13f2"
    },
    "kernelspec": {
      "display_name": "Python 3.8.10 64-bit",
      "language": "python",
      "name": "python3"
    },
    "language_info": {
      "name": "python",
      "version": "3.8.10"
    }
  },
  "nbformat": 4,
  "nbformat_minor": 0
}
